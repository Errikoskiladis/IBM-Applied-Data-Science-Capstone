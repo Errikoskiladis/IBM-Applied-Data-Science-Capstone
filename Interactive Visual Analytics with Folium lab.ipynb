{
    "cells": [
        {
            "cell_type": "markdown",
            "metadata": {
                "id": "3n3ltmfnrqpi",
                "outputId": "a2d4f52a-2fb7-4668-f5f0-fe862aab8eb0",
                "papermill": {
                    "duration": 1.489571,
                    "end_time": "2020-09-19T06:26:57.168979",
                    "exception": false,
                    "start_time": "2020-09-19T06:26:55.679408",
                    "status": "completed"
                },
                "tags": []
            },
            "source": "<p style=\"text-align:center\">\n    <a href=\"https://skills.network/?utm_medium=Exinfluencer&utm_source=Exinfluencer&utm_content=000026UJ&utm_term=10006555&utm_id=NA-SkillsNetwork-Channel-SkillsNetworkCoursesIBMDS0321ENSkillsNetwork26802033-2022-01-01\" target=\"_blank\">\n    <img src=\"https://cf-courses-data.s3.us.cloud-object-storage.appdomain.cloud/assets/logos/SN_web_lightmode.png\" width=\"200\" alt=\"Skills Network Logo\"  />\n    </a>\n</p>\n"
        },
        {
            "cell_type": "markdown",
            "metadata": {
                "id": "osAsmaRKUl3h"
            },
            "source": "# **Launch Sites Locations Analysis with Folium**\n"
        },
        {
            "cell_type": "markdown",
            "metadata": {
                "id": "-XS-PTsyUl3l"
            },
            "source": "Estimated time needed: **40** minutes\n"
        },
        {
            "cell_type": "markdown",
            "metadata": {
                "id": "JVpGs1iIUl3p"
            },
            "source": "The launch success rate may depend on many factors such as payload mass, orbit type, and so on. It may also depend on the location and proximities of a launch site, i.e., the initial position of rocket trajectories. Finding an optimal location for building a launch site certainly involves many factors and hopefully we could discover some of the factors by analyzing the existing launch site locations.\n"
        },
        {
            "cell_type": "markdown",
            "metadata": {
                "id": "3WLrOLxEUl3t"
            },
            "source": "In the previous exploratory data analysis labs, you have visualized the SpaceX launch dataset using `matplotlib` and `seaborn` and discovered some preliminary correlations between the launch site and success rates. In this lab, you will be performing more interactive visual analytics using `Folium`.\n"
        },
        {
            "cell_type": "markdown",
            "metadata": {
                "id": "DrP0F7gZUl3w"
            },
            "source": "## Objectives\n"
        },
        {
            "cell_type": "markdown",
            "metadata": {
                "id": "WJjMOl-PUl3z"
            },
            "source": "This lab contains the following tasks:\n\n*   **TASK 1:** Mark all launch sites on a map\n*   **TASK 2:** Mark the success/failed launches for each site on the map\n*   **TASK 3:** Calculate the distances between a launch site to its proximities\n\nAfter completed the above tasks, you should be able to find some geographical patterns about launch sites.\n"
        },
        {
            "cell_type": "markdown",
            "metadata": {
                "id": "xvASdIReUl31"
            },
            "source": "Let's first import required Python packages for this lab:\n"
        },
        {
            "cell_type": "code",
            "execution_count": null,
            "metadata": {
                "colab": {
                    "base_uri": "https://localhost:8080/"
                },
                "id": "LWmTEDsFUl34",
                "outputId": "3f9649df-ac10-42ea-983f-f4457bcb5289"
            },
            "outputs": [],
            "source": "!pip3 install folium\n!pip3 install wget"
        },
        {
            "cell_type": "code",
            "execution_count": null,
            "metadata": {
                "id": "bVSHBTckUl39"
            },
            "outputs": [],
            "source": "import folium\nimport wget\nimport pandas as pd"
        },
        {
            "cell_type": "code",
            "execution_count": null,
            "metadata": {
                "id": "TeEpDb7CUl4A"
            },
            "outputs": [],
            "source": "# Import folium MarkerCluster plugin\nfrom folium.plugins import MarkerCluster\n# Import folium MousePosition plugin\nfrom folium.plugins import MousePosition\n# Import folium DivIcon plugin\nfrom folium.features import DivIcon"
        },
        {
            "cell_type": "markdown",
            "metadata": {
                "id": "cI58Sz20Ul4D"
            },
            "source": "If you need to refresh your memory about folium, you may download and refer to this previous folium lab:\n"
        },
        {
            "cell_type": "markdown",
            "metadata": {
                "id": "H2aJ-sBJUl4E"
            },
            "source": "[Generating Maps with Python](https://cf-courses-data.s3.us.cloud-object-storage.appdomain.cloud/IBM-DS0321EN-SkillsNetwork/labs/module\\_3/DV0101EN-3-5-1-Generating-Maps-in-Python-py-v2.0.ipynb)\n"
        },
        {
            "cell_type": "markdown",
            "metadata": {
                "id": "zMinh0fUUl4H"
            },
            "source": "## Task 1: Mark all launch sites on a map\n"
        },
        {
            "cell_type": "markdown",
            "metadata": {
                "id": "tL3VqS3OUl4I"
            },
            "source": "First, let's try to add each site's location on a map using site's latitude and longitude coordinates\n"
        },
        {
            "cell_type": "markdown",
            "metadata": {
                "id": "fU05jXQAUl4J"
            },
            "source": "The following dataset with the name `spacex_launch_geo.csv` is an augmented dataset with latitude and longitude added for each site.\n"
        },
        {
            "cell_type": "code",
            "execution_count": null,
            "metadata": {
                "id": "vMnHgNEyUl4L"
            },
            "outputs": [],
            "source": "# Download and read the `spacex_launch_geo.csv`\nspacex_csv_file = wget.download('https://cf-courses-data.s3.us.cloud-object-storage.appdomain.cloud/IBM-DS0321EN-SkillsNetwork/datasets/spacex_launch_geo.csv')\nspacex_df=pd.read_csv(spacex_csv_file)"
        },
        {
            "cell_type": "markdown",
            "metadata": {
                "id": "q4U8tVxuUl4M"
            },
            "source": "Now, you can take a look at what are the coordinates for each site.\n"
        },
        {
            "cell_type": "code",
            "execution_count": null,
            "metadata": {
                "colab": {
                    "base_uri": "https://localhost:8080/",
                    "height": 175
                },
                "id": "FceMz2wQUl4N",
                "outputId": "de4b191e-8d70-43f9-ca01-8065808bcd3f"
            },
            "outputs": [],
            "source": "# Select relevant sub-columns: `Launch Site`, `Lat(Latitude)`, `Long(Longitude)`, `class`\nspacex_df = spacex_df[['Launch Site', 'Lat', 'Long', 'class']]\nlaunch_sites_df = spacex_df.groupby(['Launch Site'], as_index=False).first()\nlaunch_sites_df = launch_sites_df[['Launch Site', 'Lat', 'Long']]\nlaunch_sites_df"
        },
        {
            "cell_type": "markdown",
            "metadata": {
                "id": "Q2R21B6VUl4P"
            },
            "source": "Above coordinates are just plain numbers that can not give you any intuitive insights about where are those launch sites. If you are very good at geography, you can interpret those numbers directly in your mind. If not, that's fine too. Let's visualize those locations by pinning them on a map.\n"
        },
        {
            "cell_type": "markdown",
            "metadata": {
                "id": "8TP32kRWUl4Q"
            },
            "source": "We first need to create a folium `Map` object, with an initial center location to be NASA Johnson Space Center at Houston, Texas.\n"
        },
        {
            "cell_type": "code",
            "execution_count": null,
            "metadata": {
                "id": "XhuBvJwWUl4R"
            },
            "outputs": [],
            "source": "# Start location is NASA Johnson Space Center\nnasa_coordinate = [29.559684888503615, -95.0830971930759]\nsite_map = folium.Map(location=nasa_coordinate, zoom_start=10)"
        },
        {
            "cell_type": "markdown",
            "metadata": {
                "id": "A17zuJbcUl4T"
            },
            "source": "We could use `folium.Circle` to add a highlighted circle area with a text label on a specific coordinate. For example,\n"
        },
        {
            "cell_type": "code",
            "execution_count": null,
            "metadata": {
                "colab": {
                    "base_uri": "https://localhost:8080/",
                    "height": 657
                },
                "id": "GQvKPSMdUl4U",
                "outputId": "8581afb3-e202-48cd-d97e-c34d16ba6811"
            },
            "outputs": [],
            "source": "# Create a blue circle at NASA Johnson Space Center's coordinate with a popup label showing its name\ncircle = folium.Circle(nasa_coordinate, radius=1000, color='#d35400', fill=True).add_child(folium.Popup('NASA Johnson Space Center'))\n# Create a blue circle at NASA Johnson Space Center's coordinate with a icon showing its name\nmarker = folium.map.Marker(\n    nasa_coordinate,\n    # Create an icon as a text label\n    icon=DivIcon(\n        icon_size=(20,20),\n        icon_anchor=(0,0),\n        html='<div style=\"font-size: 12; color:#d35400;\"><b>%s</b></div>' % 'NASA JSC',\n        )\n    )\nsite_map.add_child(circle)\nsite_map.add_child(marker)"
        },
        {
            "cell_type": "markdown",
            "metadata": {
                "id": "QyAu5ilBUl4W"
            },
            "source": "and you should find a small yellow circle near the city of Houston and you can zoom-in to see a larger circle.\n"
        },
        {
            "cell_type": "markdown",
            "metadata": {
                "id": "g5bco0PIUl4Y"
            },
            "source": "Now, let's add a circle for each launch site in data frame `launch_sites`\n"
        },
        {
            "cell_type": "markdown",
            "metadata": {
                "id": "STZF8XkzUl4Z"
            },
            "source": "*TODO:*  Create and add `folium.Circle` and `folium.Marker` for each launch site on the site map\n"
        },
        {
            "cell_type": "markdown",
            "metadata": {
                "id": "DkVpW2qMUl4Z"
            },
            "source": "An example of folium.Circle:\n"
        },
        {
            "cell_type": "markdown",
            "metadata": {
                "id": "NWEnP-mTUl4a"
            },
            "source": "`folium.Circle(coordinate, radius=1000, color='#000000', fill=True).add_child(folium.Popup(...))`\n"
        },
        {
            "cell_type": "markdown",
            "metadata": {
                "id": "up8iWz70Ul4c"
            },
            "source": "An example of folium.Marker:\n"
        },
        {
            "cell_type": "markdown",
            "metadata": {
                "id": "aTi85-XTUl4d"
            },
            "source": "`folium.map.Marker(coordinate, icon=DivIcon(icon_size=(20,20),icon_anchor=(0,0), html='<div style=\"font-size: 12; color:#d35400;\"><b>%s</b></div>' % 'label', ))`\n"
        },
        {
            "cell_type": "code",
            "execution_count": null,
            "metadata": {
                "colab": {
                    "base_uri": "https://localhost:8080/"
                },
                "id": "tY-8otI9mHoL",
                "outputId": "14c2b1a4-6841-4c16-c78c-d5fa7ae6b1bd"
            },
            "outputs": [],
            "source": " #This is to find the coodrinates of the 4 different Launch Sites.\n #We will append the coordinates into the location variable.\n\n location = []\n temp_var = []\n\n for row in range(0,4):\n   temp_var = [launch_sites_df['Lat'][row],launch_sites_df['Long'][row]]\n   location.append(temp_var)\n   temp_var = []\n\nlocation"
        },
        {
            "cell_type": "code",
            "execution_count": null,
            "metadata": {
                "colab": {
                    "base_uri": "https://localhost:8080/",
                    "height": 657
                },
                "id": "u747KQYqUl4e",
                "outputId": "81a088f5-b73b-48c4-fe77-7588f30c55b5",
                "scrolled": true
            },
            "outputs": [],
            "source": "# Initial the map\nsite_map = folium.Map(location=nasa_coordinate, zoom_start=5)\n# For each launch site, add a Circle object based on its coordinate (Lat, Long) values. In addition, add Launch site name as a popup label\n\n\n\n# launch_sites_df[['Launch Site', 'Lat', 'Long']]\nradius = 50\n\ncircle1 = folium.Circle(location[0], radius, color='#d35400', fill=True).add_child(folium.Popup('CCAFS LC-40'))\n\nmarker1 = folium.map.Marker(\n    location[0],\n    # Create an icon as a text label\n    icon=DivIcon(\n        icon_size=(20,20),\n        icon_anchor=(0,0),\n        html='<div style=\"font-size: 12; color:#d35400;\"><b>%s</b></div>' % 'CCAFS LC-40',\n        )\n    )\nsite_map.add_child(circle1)\nsite_map.add_child(marker1)\n\n#---------------------------------------------------------\n\ncircle2 = folium.Circle(location[1], radius, color='#d35400', fill=True).add_child(folium.Popup('CCAFS SLC-40'))\n\nmarker2 = folium.map.Marker(\n    location[1],\n    # Create an icon as a text label\n    icon=DivIcon(\n        icon_size=(20,20),\n        icon_anchor=(0,0),\n        html='<div style=\"font-size: 12; color:#d35400;\"><b>%s</b></div>' % 'CCAFS SLC-40',\n        )\n    )\nsite_map.add_child(circle2)\nsite_map.add_child(marker2)\n\n#---------------------------------------------------------\n\ncircle3 = folium.Circle(location[2], radius, color='#d35400', fill=True).add_child(folium.Popup('KSC LC-39A'))\n\nmarker3 = folium.map.Marker(\n    location[2],\n    # Create an icon as a text label\n    icon=DivIcon(\n        icon_size=(20,20),\n        icon_anchor=(0,0),\n        html='<div style=\"font-size: 12; color:#d35400;\"><b>%s</b></div>' % 'KSC LC-39A',\n        )\n    )\nsite_map.add_child(circle3)\nsite_map.add_child(marker3)\n\n#---------------------------------------------------------\n\ncircle4 = folium.Circle(location[3], radius, color='#d35400', fill=True).add_child(folium.Popup('VAFB SLC-4E'))\n\nmarker4 = folium.map.Marker(\n    location[3],\n    # Create an icon as a text label\n    icon=DivIcon(\n        icon_size=(20,20),\n        icon_anchor=(0,0),\n        html='<div style=\"font-size: 12; color:#d35400;\"><b>%s</b></div>' % 'VAFB SLC-4E',\n        )\n    )\nsite_map.add_child(circle4)\nsite_map.add_child(marker4)\n\n"
        },
        {
            "cell_type": "markdown",
            "metadata": {
                "id": "UiDDnbqzUl4f"
            },
            "source": "The generated map with marked launch sites should look similar to the following:\n"
        },
        {
            "cell_type": "markdown",
            "metadata": {
                "id": "3Pf53hskUl4h"
            },
            "source": "<center>\n    <img src=\"https://cf-courses-data.s3.us.cloud-object-storage.appdomain.cloud/IBM-DS0321EN-SkillsNetwork/labs/module_3/images/launch_site_markers.png\" />\n</center>\n"
        },
        {
            "cell_type": "markdown",
            "metadata": {
                "id": "j0ODJJnlUl4i"
            },
            "source": "Now, you can explore the map by zoom-in/out the marked areas\n, and try to answer the following questions:\n\n*   Are all launch sites in proximity to the Equator line?\n*   Are all launch sites in very close proximity to the coast?\n\nAlso please try to explain your findings.\n"
        },
        {
            "cell_type": "markdown",
            "metadata": {
                "id": "dYisDkqV3w_A"
            },
            "source": "- **Are all launch sites in proximity to the Equator line?**\n\n*Yes, it is well known that the locations that are close to the equator line are optimal from a fuel consumption perspective*\n\n- **Are all launch sites in very close proximity to the coast?**\n\n*Yes, I guess for safety reasons*"
        },
        {
            "cell_type": "markdown",
            "metadata": {
                "id": "z05mckrtUl4j"
            },
            "source": "# Task 2: Mark the success/failed launches for each site on the map\n"
        },
        {
            "cell_type": "markdown",
            "metadata": {
                "id": "VXQjGRoQUl4k"
            },
            "source": "Next, let's try to enhance the map by adding the launch outcomes for each site, and see which sites have high success rates.\nRecall that data frame spacex_df has detailed launch records, and the `class` column indicates if this launch was successful or not\n"
        },
        {
            "cell_type": "code",
            "execution_count": null,
            "metadata": {
                "colab": {
                    "base_uri": "https://localhost:8080/",
                    "height": 363
                },
                "id": "hGUxjJFxUl4l",
                "outputId": "5dd795db-91fa-4ad3-b095-b837ae145d07"
            },
            "outputs": [],
            "source": "spacex_df.tail(10)"
        },
        {
            "cell_type": "markdown",
            "metadata": {
                "id": "l0BUqHu1Ul4l"
            },
            "source": "Next, let's create markers for all launch records.\nIf a launch was successful `(class=1)`, then we use a green marker and if a launch was failed, we use a red marker `(class=0)`\n"
        },
        {
            "cell_type": "markdown",
            "metadata": {
                "id": "Iv7u4jn9Ul4n"
            },
            "source": "Note that a launch only happens in one of the four launch sites, which means many launch records will have the exact same coordinate. Marker clusters can be a good way to simplify a map containing many markers having the same coordinate.\n"
        },
        {
            "cell_type": "markdown",
            "metadata": {
                "id": "zERwClpHUl4o"
            },
            "source": "Let's first create a `MarkerCluster` object\n"
        },
        {
            "cell_type": "code",
            "execution_count": null,
            "metadata": {
                "id": "wP9PVUZ7Jfjt",
                "papermill": {
                    "duration": 0.904519,
                    "end_time": "2020-09-19T06:27:38.357041",
                    "exception": false,
                    "start_time": "2020-09-19T06:27:37.452522",
                    "status": "completed"
                },
                "tags": []
            },
            "outputs": [],
            "source": "marker_cluster = MarkerCluster()\n"
        },
        {
            "cell_type": "markdown",
            "metadata": {
                "id": "htD3-UnIUl4q"
            },
            "source": "*TODO:* Create a new column in `launch_sites` dataframe called `marker_color` to store the marker colors based on the `class` value\n"
        },
        {
            "cell_type": "code",
            "execution_count": null,
            "metadata": {
                "id": "FhOBHg14Ul4r"
            },
            "outputs": [],
            "source": "# Apply a function to check the value of `class` column\n# If class=1, marker_color value will be green\n# If class=0, marker_color value will be red\n"
        },
        {
            "cell_type": "code",
            "execution_count": null,
            "metadata": {
                "colab": {
                    "base_uri": "https://localhost:8080/",
                    "height": 363
                },
                "id": "962gLIXGUl4s",
                "outputId": "3499bf83-6e52-48f2-fdec-98658d2e22cc"
            },
            "outputs": [],
            "source": "# Function to assign color to launch outcome\ndef assign_marker_color(launch_outcome):\n    if launch_outcome == 1:\n        return 'green'\n    else:\n        return 'red'\n    \nspacex_df['marker_color'] = spacex_df['class'].apply(assign_marker_color)\nspacex_df.tail(10)"
        },
        {
            "cell_type": "markdown",
            "metadata": {
                "id": "hl73ZdkHUl4t"
            },
            "source": "*TODO:* For each launch result in `spacex_df` data frame, add a `folium.Marker` to `marker_cluster`\n"
        },
        {
            "cell_type": "code",
            "execution_count": null,
            "metadata": {
                "colab": {
                    "base_uri": "https://localhost:8080/",
                    "height": 657
                },
                "id": "mR5gZxFIUl4t",
                "outputId": "d4e3bd85-92ed-4eb6-abdf-e5ff18ef6b23",
                "scrolled": true
            },
            "outputs": [],
            "source": "# Add marker_cluster to current site_map\nsite_map.add_child(marker_cluster)\n\n# for each row in spacex_df data frame\n# create a Marker object with its coordinate\n# and customize the Marker's icon property to indicate if this launch was successed or failed, \n# e.g., icon=folium.Icon(color='white', icon_color=row['marker_color']\nfor index, record in spacex_df.iterrows():\n  marker = folium.Marker([record['Lat'], record['Long']], \n                  icon=folium.Icon(color='white', icon_color=record['marker_color']))\n    # TODO: Create and add a Marker cluster to the site map\n    #marker = folium.Marker(...)\n  marker_cluster.add_child(marker)\n\nsite_map"
        },
        {
            "cell_type": "markdown",
            "metadata": {
                "id": "9nkGm6cIUl4u"
            },
            "source": "Your updated map may look like the following screenshots:\n"
        },
        {
            "cell_type": "markdown",
            "metadata": {
                "id": "N0xqi8W5Ul4v"
            },
            "source": "<center>\n    <img src=\"https://cf-courses-data.s3.us.cloud-object-storage.appdomain.cloud/IBM-DS0321EN-SkillsNetwork/labs/module_3/images/launch_site_marker_cluster.png\" />\n</center>\n"
        },
        {
            "cell_type": "markdown",
            "metadata": {
                "id": "k5Sj7-c-Ul4v"
            },
            "source": "<center>\n    <img src=\"https://cf-courses-data.s3.us.cloud-object-storage.appdomain.cloud/IBM-DS0321EN-SkillsNetwork/labs/module_3/images/launch_site_marker_cluster_zoomed.png\" />\n</center>\n"
        },
        {
            "cell_type": "markdown",
            "metadata": {
                "id": "nQdV7477Ul4w"
            },
            "source": "From the color-labeled markers in marker clusters, you should be able to easily identify which launch sites have relatively high success rates.\n"
        },
        {
            "cell_type": "markdown",
            "metadata": {
                "id": "IRKxXnqtUl4x"
            },
            "source": "# TASK 3: Calculate the distances between a launch site to its proximities\n"
        },
        {
            "cell_type": "markdown",
            "metadata": {
                "id": "K6rrtvn5Ul4y"
            },
            "source": "Next, we need to explore and analyze the proximities of launch sites.\n"
        },
        {
            "cell_type": "markdown",
            "metadata": {
                "id": "lndfqRF7Ul4y"
            },
            "source": "Let's first add a `MousePosition` on the map to get coordinate for a mouse over a point on the map. As such, while you are exploring the map, you can easily find the coordinates of any points of interests (such as railway)\n"
        },
        {
            "cell_type": "code",
            "execution_count": null,
            "metadata": {
                "colab": {
                    "base_uri": "https://localhost:8080/",
                    "height": 657
                },
                "id": "5FFpYxPfUl4z",
                "outputId": "96864639-06fa-4e1f-ee67-767ab2131668",
                "scrolled": true
            },
            "outputs": [],
            "source": "# Add Mouse Position to get the coordinate (Lat, Long) for a mouse over on the map\nformatter = \"function(num) {return L.Util.formatNum(num, 5);};\"\nmouse_position = MousePosition(\n    position='topright',\n    separator=' | Long: ',\n    empty_string='NaN',\n    lng_first=False,\n    num_digits=20,\n    prefix='Lat:',\n    lat_formatter=formatter,\n    lng_formatter=formatter,\n)\n\nsite_map.add_child(mouse_position)\nsite_map"
        },
        {
            "cell_type": "markdown",
            "metadata": {
                "id": "ZeDcWhWVUl4z"
            },
            "source": "Now zoom in to a launch site and explore its proximity to see if you can easily find any railway, highway, coastline, etc. Move your mouse to these points and mark down their coordinates (shown on the top-right) in order to the distance to the launch site.\n"
        },
        {
            "cell_type": "markdown",
            "metadata": {
                "id": "sG3_X2GVUl40"
            },
            "source": "You can calculate the distance between two points on the map based on their `Lat` and `Long` values using the following method:\n"
        },
        {
            "cell_type": "code",
            "execution_count": null,
            "metadata": {
                "id": "Ejw9jsgjUl40"
            },
            "outputs": [],
            "source": "from math import sin, cos, sqrt, atan2, radians\n\ndef calculate_distance(lat1, lon1, lat2, lon2):\n    # approximate radius of earth in km\n    R = 6373.0\n\n    lat1 = radians(lat1)\n    lon1 = radians(lon1)\n    lat2 = radians(lat2)\n    lon2 = radians(lon2)\n\n    dlon = lon2 - lon1\n    dlat = lat2 - lat1\n\n    a = sin(dlat / 2)**2 + cos(lat1) * cos(lat2) * sin(dlon / 2)**2\n    c = 2 * atan2(sqrt(a), sqrt(1 - a))\n\n    distance = R * c\n    return distance"
        },
        {
            "cell_type": "markdown",
            "metadata": {
                "id": "DTDXEH60Ul40"
            },
            "source": "*TODO:* Mark down a point on the closest coastline using MousePosition and calculate the distance between the coastline point and the launch site.\n"
        },
        {
            "cell_type": "code",
            "execution_count": null,
            "metadata": {
                "id": "diBjGGnzUl41"
            },
            "outputs": [],
            "source": "# find coordinate of the closest coastline\n\ncoastline_lat = 28.56334\ncoastline_lon = -80.56799\nlaunch_site_lat = 28.56341\nlaunch_site_lon = -80.57678\n\n\n# distance_coastline = calculate_distance(launch_site_lat, launch_site_lon, coastline_lat, coastline_lon)\n\n\ndistance_coastline = calculate_distance(launch_site_lat, launch_site_lon, coastline_lat, coastline_lon)\nprint(f'The distance between launch site SLC-40 and closest coastal line is approximately: {round(distance_coastline,3)} km')"
        },
        {
            "cell_type": "markdown",
            "metadata": {
                "id": "99WTub-JUl41"
            },
            "source": "*TODO:* After obtained its coordinate, create a `folium.Marker` to show the distance\n"
        },
        {
            "cell_type": "code",
            "execution_count": null,
            "metadata": {
                "id": "5At0EX6wUl41",
                "scrolled": true
            },
            "outputs": [],
            "source": "# Create and add a folium.Marker on your selected closest coastline point on the map\n# Display the distance between coastline point and launch site using the icon property \n# for example\ncoordinates = [[launch_site_lat, launch_site_lon],[launch_site_lat, launch_site_lon]]\n\ndistance_marker = folium.Marker(\n    [coastline_lat, coastline_lon],\n    icon=DivIcon(\n        icon_size=(20,20),\n        icon_anchor=(0,0),\n        html='<div style=\"font-size: 12; color:#d35400;\"><b>%s</b></div>' % \"{:10.2f} KM\".format(distance_coastline),\n        )\n    )\nsite_map.add_child(distance_marker)"
        },
        {
            "cell_type": "markdown",
            "metadata": {
                "id": "qJUA4IRqUl42"
            },
            "source": "*TODO:* Draw a `PolyLine` between a launch site to the selected coastline point\n"
        },
        {
            "cell_type": "code",
            "execution_count": null,
            "metadata": {
                "colab": {
                    "base_uri": "https://localhost:8080/",
                    "height": 657
                },
                "id": "v93KwhfzUl42",
                "outputId": "fba66716-4518-4b67-ab20-b90876a1c2a8",
                "scrolled": false
            },
            "outputs": [],
            "source": "# Create a `folium.PolyLine` object using the coastline coordinates and launch site coordinate\n\ncoordinates = [[launch_site_lat,launch_site_lon],[coastline_lat,coastline_lon]]\nlines=folium.PolyLine(locations=coordinates, weight=1)\nsite_map.add_child(lines)"
        },
        {
            "cell_type": "markdown",
            "metadata": {
                "id": "nEcT5alsUl42"
            },
            "source": "Your updated map with distance line should look like the following screenshot:\n"
        },
        {
            "cell_type": "markdown",
            "metadata": {
                "id": "Kh2K2e1RUl43"
            },
            "source": "<center>\n    <img src=\"https://cf-courses-data.s3.us.cloud-object-storage.appdomain.cloud/IBM-DS0321EN-SkillsNetwork/labs/module_3/images/launch_site_marker_distance.png\" />\n</center>\n"
        },
        {
            "cell_type": "markdown",
            "metadata": {
                "id": "m2mOVOgjUl43"
            },
            "source": "*TODO:* Similarly, you can draw a line betwee a launch site to its closest city, railway, highway, etc. You need to use `MousePosition` to find the their coordinates on the map first\n"
        },
        {
            "cell_type": "markdown",
            "metadata": {
                "id": "JWEsxD2vUl44"
            },
            "source": "A railway map symbol may look like this:\n"
        },
        {
            "cell_type": "markdown",
            "metadata": {
                "id": "sqjzEFgVUl44"
            },
            "source": "<center>\n    <img src=\"https://cf-courses-data.s3.us.cloud-object-storage.appdomain.cloud/IBM-DS0321EN-SkillsNetwork/labs/module_3/images/railway.png\" />\n</center>\n"
        },
        {
            "cell_type": "markdown",
            "metadata": {
                "id": "sLx7-jF8Ul45"
            },
            "source": "A highway map symbol may look like this:\n"
        },
        {
            "cell_type": "markdown",
            "metadata": {
                "id": "xPSr1NE8Ul45"
            },
            "source": "<center>\n    <img src=\"https://cf-courses-data.s3.us.cloud-object-storage.appdomain.cloud/IBM-DS0321EN-SkillsNetwork/labs/module_3/images/highway.png\" />\n</center>\n"
        },
        {
            "cell_type": "markdown",
            "metadata": {
                "id": "qlLujn9eUl45"
            },
            "source": "A city map symbol may look like this:\n"
        },
        {
            "cell_type": "markdown",
            "metadata": {
                "id": "Ovvb-trDUl46"
            },
            "source": "<center>\n    <img src=\"https://cf-courses-data.s3.us.cloud-object-storage.appdomain.cloud/IBM-DS0321EN-SkillsNetwork/labs/module_3/images/city.png\" />\n</center>\n"
        },
        {
            "cell_type": "code",
            "execution_count": null,
            "metadata": {
                "id": "bPL0Q9_3Ul46"
            },
            "outputs": [],
            "source": "# Create a marker with distance to a closest city, railway, highway, etc.\n# Draw a line between the marker to the launch site\n# Create a marker with distance to a closest city, railway, highway relative to CCAFS SLC-40\n# Draw a line between the marker to the launch site\nclosest_highway = 28.56335, -80.57085\nclosest_railroad = 28.57206, -80.58525\nclosest_city = 28.10473, -80.64531"
        },
        {
            "cell_type": "code",
            "execution_count": null,
            "metadata": {
                "id": "udB3_oFNUl47"
            },
            "outputs": [],
            "source": "distance_highway = calculate_distance(launch_site_lat, launch_site_lon, closest_highway[0], closest_highway[1])\nprint('distance_highway =',distance_highway, ' km')\ndistance_railroad = calculate_distance(launch_site_lat, launch_site_lon, closest_railroad[0], closest_railroad[1])\nprint('distance_railroad =',distance_railroad, ' km')\ndistance_city = calculate_distance(launch_site_lat, launch_site_lon, closest_city[0], closest_city[1])\nprint('distance_city =',distance_city, ' km')"
        },
        {
            "cell_type": "code",
            "execution_count": null,
            "metadata": {
                "id": "vdn7vlPyUl47"
            },
            "outputs": [],
            "source": "# closest highway marker\ndistance_marker = folium.Marker(\n   closest_highway,\n   icon=DivIcon(\n       icon_size=(20,20),\n       icon_anchor=(0,0),\n        html='<div style=\"font-size: 12; color:#d35400;\"><b>%s</b></div>' % \"{:10.2f} KM\".format(distance_highway),\n        )\n   )\nsite_map.add_child(distance_marker)\n\n# closest highway line\ncoordinates = [[launch_site_lat,launch_site_lon],closest_highway]\nlines=folium.PolyLine(locations=coordinates, weight=1)\nsite_map.add_child(lines)\n\n# closest railroad marker\ndistance_marker = folium.Marker(\n   closest_railroad,\n   icon=DivIcon(\n       icon_size=(20,20),\n       icon_anchor=(0,0),\n        html='<div style=\"font-size: 12; color:#d35400;\"><b>%s</b></div>' % \"{:10.2f} KM\".format(distance_railroad),\n        )\n   )\nsite_map.add_child(distance_marker)\n\n# closest railroad line\ncoordinates = [[launch_site_lat,launch_site_lon],closest_railroad]\nlines=folium.PolyLine(locations=coordinates, weight=1)\nsite_map.add_child(lines)\n\n# closest city marker\ndistance_marker = folium.Marker(\n   closest_city,\n   icon=DivIcon(\n       icon_size=(20,20),\n       icon_anchor=(0,0),\n        html='<div style=\"font-size: 12; color:#d35400;\"><b>%s</b></div>' % \"{:10.2f} KM\".format(distance_city),\n        )\n   )\nsite_map.add_child(distance_marker)\n\n# closest city line\ncoordinates = [[launch_site_lat,launch_site_lon],closest_city]\nlines=folium.PolyLine(locations=coordinates, weight=1)\nsite_map.add_child(lines)\n\n"
        },
        {
            "cell_type": "markdown",
            "metadata": {
                "id": "Mfnz5ZxcUl47"
            },
            "source": "After you plot distance lines to the proximities, you can answer the following questions easily:\n\n*   Are launch sites in close proximity to railways?\n*   Are launch sites in close proximity to highways?\n*   Are launch sites in close proximity to coastline?\n*   Do launch sites keep certain distance away from cities?\n\nAlso please try to explain your findings.\n"
        },
        {
            "cell_type": "markdown",
            "metadata": {
                "id": "Pq2jB-pjUl48"
            },
            "source": "# Next Steps:\n\nNow you have discovered many interesting insights related to the launch sites' location using folium, in a very interactive way. Next, you will need to build a dashboard using Ploty Dash on detailed launch records.\n"
        },
        {
            "cell_type": "markdown",
            "metadata": {
                "id": "agxdFMvpUl48"
            },
            "source": "## Authors\n"
        },
        {
            "cell_type": "markdown",
            "metadata": {
                "id": "_zsCfCpsUl48"
            },
            "source": "[Yan Luo](https://www.linkedin.com/in/yan-luo-96288783/?utm_medium=Exinfluencer&utm_source=Exinfluencer&utm_content=000026UJ&utm_term=10006555&utm_id=NA-SkillsNetwork-Channel-SkillsNetworkCoursesIBMDS0321ENSkillsNetwork26802033-2022-01-01)\n"
        },
        {
            "cell_type": "markdown",
            "metadata": {
                "id": "BjqEug1PUl49"
            },
            "source": "### Other Contributors\n"
        },
        {
            "cell_type": "markdown",
            "metadata": {
                "id": "HOLkZM-bUl49"
            },
            "source": "Joseph Santarcangelo\n"
        },
        {
            "cell_type": "markdown",
            "metadata": {
                "id": "lvPpq_KjUl49"
            },
            "source": "## Change Log\n"
        },
        {
            "cell_type": "markdown",
            "metadata": {
                "id": "gLyqJL1gUl4-"
            },
            "source": "| Date (YYYY-MM-DD) | Version | Changed By | Change Description          |\n| ----------------- | ------- | ---------- | --------------------------- |\n| 2021-05-26        | 1.0     | Yan        | Created the initial version |\n"
        },
        {
            "cell_type": "markdown",
            "metadata": {
                "id": "1ixVbr1YUl4-"
            },
            "source": "Copyright \u00a9 2021 IBM Corporation. All rights reserved.\n"
        }
    ],
    "metadata": {
        "colab": {
            "collapsed_sections": [],
            "provenance": []
        },
        "kernelspec": {
            "display_name": "Python 3.9",
            "language": "python",
            "name": "python3"
        },
        "language_info": {
            "codemirror_mode": {
                "name": "ipython",
                "version": 3
            },
            "file_extension": ".py",
            "mimetype": "text/x-python",
            "name": "python",
            "nbconvert_exporter": "python",
            "pygments_lexer": "ipython3",
            "version": "3.9.13"
        },
        "papermill": {
            "duration": 142.196942,
            "end_time": "2020-09-19T06:29:13.341578",
            "environment_variables": {},
            "exception": null,
            "input_path": "__notebook__.ipynb",
            "output_path": "__notebook__.ipynb",
            "parameters": {},
            "start_time": "2020-09-19T06:26:51.144636",
            "version": "2.1.0"
        }
    },
    "nbformat": 4,
    "nbformat_minor": 1
}